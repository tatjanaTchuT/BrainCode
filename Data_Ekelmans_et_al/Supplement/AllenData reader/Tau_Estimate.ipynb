{
 "cells": [
  {
   "cell_type": "code",
   "execution_count": 10,
   "metadata": {},
   "outputs": [
    {
     "name": "stdout",
     "output_type": "stream",
     "text": [
      "tauE 20.06641480551051\n",
      "tauI 11.322339537112663\n",
      "VrestE -75.69564576582475\n",
      "VrestI -72.86580714773625\n",
      "VthlsqE -37.328600103204906\n",
      "VthlsqI -37.818818417001275\n",
      "VthrE -36.38541824122271\n",
      "VthrI -35.20213567001233\n",
      "VthssqE -46.26147848586156\n",
      "VthssqI -44.14391569405221\n"
     ]
    }
   ],
   "source": [
    "from allensdk.core.cell_types_cache import CellTypesCache\n",
    "from allensdk.api.queries.cell_types_api import CellTypesApi\n",
    "from allensdk.core.cell_types_cache import ReporterStatus as RS\n",
    "from math import isnan\n",
    "ctc = CellTypesCache(manifest_file='cell_types/manifest.json')\n",
    "Mouse=[]\n",
    "for cell in ctc.get_cells():\n",
    "    if cell['species']=='Mus musculus' and cell['structure_area_abbrev']=='VISp' and cell['structure_layer_name']=='2/3':\n",
    "    #if cell['species']=='Mus musculus':# and cell['structure_area_abbrev']=='VISp':\n",
    "        Mouse.append(cell)\n",
    "E=[]\n",
    "I=[]\n",
    "for cell in Mouse:\n",
    "    if cell['dendrite_type']=='spiny':\n",
    "        E.append(cell['id'])\n",
    "    elif cell['name'][0:3] in ['Vip','Pva','Sst']:\n",
    "        I.append(cell['id'])\n",
    "#print(cell.keys())\n",
    "\n",
    "ephys = ctc.get_ephys_features()\n",
    "tauE=[]\n",
    "tauI=[]\n",
    "\n",
    "VrestE=[]\n",
    "VrestI=[]\n",
    "VthlsqE=[]\n",
    "VthlsqI=[]\n",
    "VthrE=[]\n",
    "VthrI=[]\n",
    "VthssqE=[]\n",
    "VthssqI=[]\n",
    "\n",
    "#threshold_v_long_square', 'threshold_v_ramp', 'threshold_v_short_square'\n",
    "\n",
    "idephys=[]\n",
    "for cell in ephys:\n",
    "    id=cell['specimen_id']\n",
    "    idephys.append(id)\n",
    "    if id in E:\n",
    "        tauE.append(cell['tau'])\n",
    "        VrestE.append(cell['vrest'])\n",
    "        VthlsqE.append(cell['threshold_v_long_square'])\n",
    "        VthssqE.append(cell['threshold_v_short_square'])\n",
    "        if isnan(cell['threshold_v_ramp']):\n",
    "            continue\n",
    "        VthrE.append(cell['threshold_v_ramp'])\n",
    "    elif id in I:\n",
    "        tauI.append(cell['tau'])\n",
    "        VrestI.append(cell['vrest'])\n",
    "        VthlsqI.append(cell['threshold_v_long_square'])\n",
    "        VthssqI.append(cell['threshold_v_short_square'])\n",
    "        if isnan(cell['threshold_v_ramp']):\n",
    "            continue\n",
    "        VthrI.append(cell['threshold_v_ramp'])\n",
    "#print(cell.keys())\n",
    "\n",
    "print('tauE',sum(tauE)/len(tauE))\n",
    "print('tauI',sum(tauI)/len(tauI))\n",
    "\n",
    "print('VrestE',sum(VrestE)/len(VrestE))\n",
    "print('VrestI',sum(VrestI)/len(VrestI))\n",
    "\n",
    "print('VthlsqE',sum(VthlsqE)/len(VthlsqE))\n",
    "print('VthlsqI',sum(VthlsqI)/len(VthlsqI))\n",
    "\n",
    "print('VthrE',sum(VthrE)/len(VthrE))\n",
    "print('VthrI',sum(VthrI)/len(VthrI))\n",
    "\n",
    "print('VthssqE',sum(VthssqE)/len(VthssqE))\n",
    "print('VthssqI',sum(VthssqI)/len(VthssqI))\n"
   ]
  },
  {
   "cell_type": "code",
   "execution_count": null,
   "metadata": {},
   "outputs": [],
   "source": []
  }
 ],
 "metadata": {
  "kernelspec": {
   "display_name": "Python 3",
   "language": "python",
   "name": "python3"
  },
  "language_info": {
   "codemirror_mode": {
    "name": "ipython",
    "version": 3
   },
   "file_extension": ".py",
   "mimetype": "text/x-python",
   "name": "python",
   "nbconvert_exporter": "python",
   "pygments_lexer": "ipython3",
   "version": "3.7.6"
  }
 },
 "nbformat": 4,
 "nbformat_minor": 1
}
