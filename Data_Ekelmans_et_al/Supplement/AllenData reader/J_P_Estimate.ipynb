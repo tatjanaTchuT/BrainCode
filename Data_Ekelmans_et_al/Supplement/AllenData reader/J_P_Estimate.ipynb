{
 "cells": [
  {
   "cell_type": "code",
   "execution_count": 1,
   "metadata": {},
   "outputs": [],
   "source": [
    "import numpy as np\n",
    "from aisynphys.database import SynphysDatabase\n",
    "from aisynphys.cell_class import CellClass"
   ]
  },
  {
   "cell_type": "code",
   "execution_count": 2,
   "metadata": {},
   "outputs": [
    {
     "data": {
      "text/plain": [
       "['synphys_r1.0_2019-08-29_small.sqlite',\n",
       " 'synphys_r1.0_2019-08-29_medium.sqlite',\n",
       " 'synphys_r1.0_2019-08-29_full.sqlite',\n",
       " 'synphys_r1.0_small.sqlite',\n",
       " 'synphys_r1.0_medium.sqlite',\n",
       " 'synphys_r1.0_full.sqlite',\n",
       " 'synphys_r2.0-pre1_small.sqlite',\n",
       " 'synphys_r2.0-pre1_medium.sqlite',\n",
       " 'synphys_r2.0-pre1_full.sqlite']"
      ]
     },
     "execution_count": 2,
     "metadata": {},
     "output_type": "execute_result"
    }
   ],
   "source": [
    "# Download and cache the sqlite file for the requested database\n",
    "#   (for available versions, see SynphysDatabase.list_versions)\n",
    "db = SynphysDatabase.load_version('synphys_r1.0_2019-08-29_small.sqlite')\n",
    "SynphysDatabase.list_versions()"
   ]
  },
  {
   "cell_type": "markdown",
   "metadata": {},
   "source": [
    "# Connection strength"
   ]
  },
  {
   "cell_type": "code",
   "execution_count": 3,
   "metadata": {},
   "outputs": [],
   "source": [
    "inh_class = CellClass(cre_type=('pvalb', 'sst', 'vip'), cortical_layer='2/3')\n",
    "exc_class = CellClass(dendrite_type='spiny', cortical_layer='2/3')"
   ]
  },
  {
   "cell_type": "code",
   "execution_count": 4,
   "metadata": {},
   "outputs": [],
   "source": [
    "IEdf = db.pair_query(post_class=inh_class, synapse=True, synapse_type='ex', project_name=[\"mouse V1 coarse matrix\", \"mouse V1 pre production\"]).add_columns(db.Synapse.psp_amplitude).dataframe()\n",
    "IIdf = db.pair_query(post_class=inh_class, synapse=True, synapse_type='in', project_name=[\"mouse V1 coarse matrix\", \"mouse V1 pre production\"]).add_columns(db.Synapse.psp_amplitude).dataframe()\n",
    "EIdf = db.pair_query(post_class=exc_class, synapse=True, synapse_type='in', project_name=[\"mouse V1 coarse matrix\", \"mouse V1 pre production\"]).add_columns(db.Synapse.psp_amplitude).dataframe()\n",
    "EEdf = db.pair_query(post_class=exc_class, synapse=True, synapse_type='ex', project_name=[\"mouse V1 coarse matrix\", \"mouse V1 pre production\"]).add_columns(db.Synapse.psp_amplitude).dataframe()\n",
    "\n",
    "IErt = db.pair_query(post_class=inh_class, synapse=True, synapse_type='ex', project_name=[\"mouse V1 coarse matrix\", \"mouse V1 pre production\"]).add_columns(db.Synapse.psp_rise_time).dataframe()\n",
    "IIrt = db.pair_query(post_class=inh_class, synapse=True, synapse_type='in', project_name=[\"mouse V1 coarse matrix\", \"mouse V1 pre production\"]).add_columns(db.Synapse.psp_rise_time).dataframe()\n",
    "EIrt = db.pair_query(post_class=exc_class, synapse=True, synapse_type='in', project_name=[\"mouse V1 coarse matrix\", \"mouse V1 pre production\"]).add_columns(db.Synapse.psp_rise_time).dataframe()\n",
    "EErt = db.pair_query(post_class=exc_class, synapse=True, synapse_type='ex', project_name=[\"mouse V1 coarse matrix\", \"mouse V1 pre production\"]).add_columns(db.Synapse.psp_rise_time).dataframe()\n",
    "\n",
    "IEdt = db.pair_query(post_class=inh_class, synapse=True, synapse_type='ex', project_name=[\"mouse V1 coarse matrix\", \"mouse V1 pre production\"]).add_columns(db.Synapse.psp_decay_tau).dataframe()\n",
    "IIdt = db.pair_query(post_class=inh_class, synapse=True, synapse_type='in', project_name=[\"mouse V1 coarse matrix\", \"mouse V1 pre production\"]).add_columns(db.Synapse.psp_decay_tau).dataframe()\n",
    "EIdt = db.pair_query(post_class=exc_class, synapse=True, synapse_type='in', project_name=[\"mouse V1 coarse matrix\", \"mouse V1 pre production\"]).add_columns(db.Synapse.psp_decay_tau).dataframe()\n",
    "EEdt = db.pair_query(post_class=exc_class, synapse=True, synapse_type='ex', project_name=[\"mouse V1 coarse matrix\", \"mouse V1 pre production\"]).add_columns(db.Synapse.psp_decay_tau).dataframe()"
   ]
  },
  {
   "cell_type": "code",
   "execution_count": 5,
   "metadata": {},
   "outputs": [
    {
     "name": "stdout",
     "output_type": "stream",
     "text": [
      "IE: 68 synapses\n",
      "II: 93 synapses\n",
      "EI: 43 synapses\n",
      "EE: 12 synapses\n"
     ]
    }
   ],
   "source": [
    "print(\"IE: %d synapses\" % len(IEdf))\n",
    "print(\"II: %d synapses\" % len(IIdf))\n",
    "print(\"EI: %d synapses\" % len(EIdf))\n",
    "print(\"EE: %d synapses\" % len(EEdf))"
   ]
  },
  {
   "cell_type": "code",
   "execution_count": 6,
   "metadata": {},
   "outputs": [
    {
     "name": "stdout",
     "output_type": "stream",
     "text": [
      "EE: 0.000102 V mean strength\n",
      "IE: 0.000465 V mean strength\n",
      "EI: -0.000362 V mean strength\n",
      "II: -0.000530 V mean strength\n",
      "***************\n",
      "EE: 0.000086 V std strength\n",
      "IE: 0.000453 V std strength\n",
      "EI: 0.000235 V std strength\n",
      "II: 0.000611 V std strength\n",
      "***************\n",
      "EE: 0.003811 s risetime\n",
      "IE: 0.003446 s risetime\n",
      "EI: 0.006639 s risetime\n",
      "II: 0.005767 s risetime\n",
      "***************\n",
      "EE: 0.025831 s decay\n",
      "IE: 0.024594 s decay\n",
      "EI: 0.145155 s decay\n",
      "II: 0.087516 s decay\n"
     ]
    }
   ],
   "source": [
    "EEstr = EEdf.psp_amplitude.mean()\n",
    "IEstr = IEdf.psp_amplitude.mean()\n",
    "EIstr = EIdf.psp_amplitude.mean()\n",
    "IIstr = IIdf.psp_amplitude.mean()\n",
    "print(\"EE: %f V mean strength\" % EEstr)\n",
    "print(\"IE: %f V mean strength\" % IEstr)\n",
    "print(\"EI: %f V mean strength\" % EIstr)\n",
    "print(\"II: %f V mean strength\" % IIstr)\n",
    "print(\"***************\")\n",
    "EEstd = EEdf.psp_amplitude.std()\n",
    "IEstd = IEdf.psp_amplitude.std()\n",
    "EIstd = EIdf.psp_amplitude.std()\n",
    "IIstd = IIdf.psp_amplitude.std()\n",
    "print(\"EE: %f V std strength\" % EEstd)\n",
    "print(\"IE: %f V std strength\" % IEstd)\n",
    "print(\"EI: %f V std strength\" % EIstd)\n",
    "print(\"II: %f V std strength\" % IIstd)\n",
    "print(\"***************\")\n",
    "EErt = EErt.psp_rise_time.mean()\n",
    "IErt = IErt.psp_rise_time.mean()\n",
    "EIrt = EIrt.psp_rise_time.mean()\n",
    "IIrt = IIrt.psp_rise_time.mean()\n",
    "print(\"EE: %f s risetime\" % EErt)\n",
    "print(\"IE: %f s risetime\" % IErt)\n",
    "print(\"EI: %f s risetime\" % EIrt)\n",
    "print(\"II: %f s risetime\" % IIrt)\n",
    "print(\"***************\")\n",
    "EEdt = EEdt.psp_decay_tau.mean()\n",
    "IEdt = IEdt.psp_decay_tau.mean()\n",
    "EIdt = EIdt.psp_decay_tau.mean()\n",
    "IIdt = IIdt.psp_decay_tau.mean()\n",
    "print(\"EE: %f s decay\" % EEdt)\n",
    "print(\"IE: %f s decay\" % IEdt)\n",
    "print(\"EI: %f s decay\" % EIdt)\n",
    "print(\"II: %f s decay\" % IIdt)"
   ]
  },
  {
   "cell_type": "code",
   "execution_count": 7,
   "metadata": {},
   "outputs": [
    {
     "name": "stdout",
     "output_type": "stream",
     "text": [
      "EE: 0.002836 V PSP AUC\n",
      "IE: 0.012249 V PSP AUC\n",
      "EI: -0.053700 V PSP AUC\n",
      "II: -0.047920 V PSP AUC\n"
     ]
    }
   ],
   "source": [
    "EE_AUC = EEstr*(0.5*EErt+EEdt)*1e3\n",
    "IE_AUC = IEstr*(0.5*IErt+IEdt)*1e3\n",
    "EI_AUC = EIstr*(0.5*EIrt+EIdt)*1e3\n",
    "II_AUC = IIstr*(0.5*IIrt+IIdt)*1e3\n",
    "print(\"EE: %f mV PSP AUC\" % EE_AUC)\n",
    "print(\"IE: %f mV PSP AUC\" % IE_AUC)\n",
    "print(\"EI: %f mV PSP AUC\" % EI_AUC)\n",
    "print(\"II: %f mV PSP AUC\" % II_AUC)"
   ]
  },
  {
   "cell_type": "markdown",
   "metadata": {},
   "source": [
    "# Connection probability"
   ]
  },
  {
   "cell_type": "code",
   "execution_count": 8,
   "metadata": {},
   "outputs": [],
   "source": [
    "from aisynphys.cell_class import classify_cells, classify_pairs\n",
    "from aisynphys.connectivity import measure_connectivity, pair_was_probed"
   ]
  },
  {
   "cell_type": "code",
   "execution_count": 9,
   "metadata": {
    "scrolled": true
   },
   "outputs": [],
   "source": [
    "# Load all cell pairs associated with mouse V1 projects\n",
    "mouse_pairs = db.pair_query(project_name=[\"mouse V1 coarse matrix\", \"mouse V1 pre-production\"]).all()\n"
   ]
  },
  {
   "cell_type": "code",
   "execution_count": 10,
   "metadata": {},
   "outputs": [],
   "source": [
    "cell_class_criteria = {\n",
    "    'l23pyr': {'dendrite_type': 'spiny',            'cortical_layer': '2/3'},\n",
    "    'l23inh': {'cre_type': ('pvalb', 'sst', 'vip'), 'cortical_layer': '2/3'},\n",
    "}\n",
    "#help(measure_connectivity)"
   ]
  },
  {
   "cell_type": "code",
   "execution_count": 11,
   "metadata": {
    "scrolled": false
   },
   "outputs": [
    {
     "data": {
      "text/plain": [
       "'\\nfor i in cell_classes.keys():\\n    print(cell_classes[i])\\n    print(cell_classes[i].is_excitatory)\\n    print(cell_classes[i].as_tuple)\\n    print(cell_classes[i].filter_query)\\n    print(cell_classes[i].name)\\n    print(cell_classes[i].output_synapse_type)\\ndir(CellClass)\\nhelp(classify_cells)\\nprint(\"break\")\\ndir(cell_classes.values)\\n'"
      ]
     },
     "execution_count": 11,
     "metadata": {},
     "output_type": "execute_result"
    }
   ],
   "source": [
    "cell_classes = {name:CellClass(name=name, **criteria) for name,criteria in cell_class_criteria.items()}\n",
    "\"\"\"\n",
    "for i in cell_classes.keys():\n",
    "    print(cell_classes[i])\n",
    "    print(cell_classes[i].is_excitatory)\n",
    "    print(cell_classes[i].as_tuple)\n",
    "    print(cell_classes[i].filter_query)\n",
    "    print(cell_classes[i].name)\n",
    "    print(cell_classes[i].output_synapse_type)\n",
    "dir(CellClass)\n",
    "help(classify_cells)\n",
    "print(\"break\")\n",
    "dir(cell_classes.values)\n",
    "\"\"\""
   ]
  },
  {
   "cell_type": "code",
   "execution_count": 12,
   "metadata": {
    "scrolled": false
   },
   "outputs": [
    {
     "name": "stdout",
     "output_type": "stream",
     "text": [
      "IdE 153\n",
      "IdI 495\n",
      "pvalb 153 |vip 188 |sst 154\n",
      "EE :   tot 84 |probed 80 |notprobed 4 |connected 5\n",
      "EI :   tot 216 |probed 150 |notprobed 66 |connected 29\n",
      "IE :   tot 216 |probed 160 |notprobed 56 |connected 44\n",
      "II :   tot 1096 |probed 607 |notprobed 489 |connected 64\n"
     ]
    }
   ],
   "source": [
    "# Group all cells by selected classes\n",
    "cell_groups = classify_cells(cell_classes.values(), pairs=mouse_pairs)\n",
    "\n",
    "# Group pairs into (pre_class, post_class) groups\n",
    "pair_groups = classify_pairs(mouse_pairs, cell_groups)\n",
    "\n",
    "# analyze matrix elements\n",
    "results = measure_connectivity(pair_groups)\n",
    "\n",
    "\n",
    "\n",
    "#-----------------------\n",
    "Keys=list(cell_groups.keys())\n",
    "Pe=cell_groups[Keys[0]]\n",
    "IdE=[]\n",
    "for i in Pe:\n",
    "    IdE.append(i.id)\n",
    "\n",
    "Pi=cell_groups[Keys[1]]\n",
    "IdI=[]\n",
    "for i in Pi:\n",
    "    if True:#i.cre_type=='pvalb':\n",
    "        IdI.append(i.id)\n",
    "\n",
    "print('IdE',len(IdE))\n",
    "print('IdI',len(IdI))\n",
    "\n",
    "pvalb=0\n",
    "vip=0\n",
    "sst=0\n",
    "for i in Pi:\n",
    "    if(i.cre_type)=='pvalb':\n",
    "        pvalb+=1\n",
    "    elif(i.cre_type)=='vip':\n",
    "        vip+=1\n",
    "    elif(i.cre_type)=='sst':\n",
    "        sst+=1\n",
    "    else:\n",
    "        print('else?')\n",
    "print('pvalb',pvalb,'|vip',vip,'|sst',sst)\n",
    "\n",
    "\n",
    "Keys_pair=list(pair_groups.keys())\n",
    "Peepair=pair_groups[Keys_pair[0]]\n",
    "SynEE=[[],[],[]]\n",
    "for i in Peepair:\n",
    "    SynEE[0].append(i.pre_cell_id)\n",
    "    SynEE[1].append(i.post_cell_id)\n",
    "    SynEE[2].append(i.has_synapse)\n",
    "\n",
    "Peipair=pair_groups[Keys_pair[1]]\n",
    "SynEI=[[],[],[]]\n",
    "for i in Peipair:\n",
    "    SynEI[0].append(i.pre_cell_id)\n",
    "    SynEI[1].append(i.post_cell_id)\n",
    "    SynEI[2].append(i.has_synapse)\n",
    "\n",
    "Piepair=pair_groups[Keys_pair[2]]\n",
    "SynIE=[[],[],[]]\n",
    "for i in Piepair:\n",
    "    SynIE[0].append(i.pre_cell_id)\n",
    "    SynIE[1].append(i.post_cell_id)\n",
    "    SynIE[2].append(i.has_synapse)\n",
    "\n",
    "Piipair=pair_groups[Keys_pair[3]]\n",
    "SynII=[[],[],[]]\n",
    "for i in Piipair:\n",
    "    SynII[0].append(i.pre_cell_id)\n",
    "    SynII[1].append(i.post_cell_id)\n",
    "    SynII[2].append(i.has_synapse)\n",
    "    a=i\n",
    "\n",
    "#print('PairEE',len(SynEE[0]))\n",
    "#print('PairEI',len(SynEI[0]))\n",
    "#print('PairIE',len(SynIE[0]))\n",
    "#print('PairII',len(SynII[0]))\n",
    "\n",
    "#EE\n",
    "pairprobed=0\n",
    "pairnotprobed=0\n",
    "allpairs=0\n",
    "connected=0\n",
    "for i in Peepair:\n",
    "    allpairs+=1\n",
    "    if i.n_ex_test_spikes<=10:\n",
    "        pairnotprobed+=1\n",
    "    else:\n",
    "        pairprobed+=1\n",
    "        if i.has_synapse:\n",
    "            connected=connected+1\n",
    "print('EE :   tot',allpairs,'|probed',pairprobed,'|notprobed',pairnotprobed,'|connected',connected)\n",
    "\n",
    "#EI\n",
    "pairprobed=0\n",
    "pairnotprobed=0\n",
    "allpairs=0\n",
    "connected=0\n",
    "for i in Piepair:\n",
    "    if not(i.pre_cell_id in IdI):\n",
    "        continue\n",
    "    allpairs+=1\n",
    "    if i.n_in_test_spikes<=10:\n",
    "        pairnotprobed+=1\n",
    "    else:\n",
    "        pairprobed+=1\n",
    "        if i.has_synapse:\n",
    "                connected=connected+1\n",
    "print('EI :   tot',allpairs,'|probed',pairprobed,'|notprobed',pairnotprobed,'|connected',connected)\n",
    "\n",
    "\n",
    "#IE\n",
    "pairprobed=0\n",
    "pairnotprobed=0\n",
    "allpairs=0\n",
    "connected=0\n",
    "for i in Peipair:\n",
    "    if not(i.post_cell_id in IdI):\n",
    "        continue\n",
    "    allpairs+=1\n",
    "    if i.n_ex_test_spikes<=10:\n",
    "        pairnotprobed+=1\n",
    "    else:\n",
    "        pairprobed+=1\n",
    "        if i.has_synapse:\n",
    "            connected=connected+1\n",
    "print('IE :   tot',allpairs,'|probed',pairprobed,'|notprobed',pairnotprobed,'|connected',connected)\n",
    "\n",
    "#II\n",
    "pairprobed=0\n",
    "pairnotprobed=0\n",
    "allpairs=0\n",
    "connected=0\n",
    "for i in Piipair:\n",
    "    if not(i.pre_cell_id in IdI and i.post_cell_id in IdI):\n",
    "        continue\n",
    "    allpairs+=1\n",
    "    if i.n_in_test_spikes<=10:\n",
    "        pairnotprobed+=1\n",
    "    else:\n",
    "        pairprobed+=1\n",
    "        if i.has_synapse:\n",
    "            connected=connected+1\n",
    "print('II :   tot',allpairs,'|probed',pairprobed,'|notprobed',pairnotprobed,'|connected',connected)\n"
   ]
  },
  {
   "cell_type": "code",
   "execution_count": 13,
   "metadata": {
    "scrolled": true
   },
   "outputs": [
    {
     "name": "stdout",
     "output_type": "stream",
     "text": [
      "Connectivity results for l23pyr => l23inh\n",
      "  44 synapses found out of 160 probed\n",
      "  27.50% connection probability\n",
      "  95% confidence interval: 20.75%-35.11%\n"
     ]
    }
   ],
   "source": [
    "# pick two arbitrary cell classes to display results from\n",
    "pre_class = cell_classes['l23pyr']\n",
    "post_class = cell_classes['l23inh']\n",
    "\n",
    "#print(results[pre_class, post_class])\n",
    "print(\"Connectivity results for %s => %s\" % (pre_class, post_class))\n",
    "print(\"  %d synapses found out of %d probed\" % (\n",
    "    results[pre_class, post_class]['n_connected'],\n",
    "    results[pre_class, post_class]['n_probed'],\n",
    "))\n",
    "print(\"  %0.2f%% connection probability\" % (\n",
    "    results[pre_class, post_class]['connection_probability'][0] * 100,\n",
    "))\n",
    "print(\"  95%% confidence interval: %0.2f%%-%0.2f%%\" % (\n",
    "    results[pre_class, post_class]['connection_probability'][1] * 100,\n",
    "    results[pre_class, post_class]['connection_probability'][2] * 100,\n",
    "))\n",
    "#print(\"and now:\")\n",
    "#print(results[pre_class, post_class].keys())\n",
    "#dir(results[pre_class, post_class])"
   ]
  },
  {
   "cell_type": "code",
   "execution_count": 14,
   "metadata": {},
   "outputs": [
    {
     "data": {
      "image/png": "[encoded data removed]",
      "text/plain": [
       "<Figure size 1080x1080 with 2 Axes>"
      ]
     },
     "metadata": {
      "needs_background": "light"
     },
     "output_type": "display_data"
    }
   ],
   "source": [
    "import matplotlib.colors, matplotlib.cm\n",
    "import matplotlib.pyplot as plt\n",
    "from aisynphys.ui.notebook import show_connectivity_matrix\n",
    "\n",
    "# define a colormap and log normalization used to color the heatmap\n",
    "norm = matplotlib.colors.LogNorm(vmin=0.01, vmax=1.0, clip=True)\n",
    "cmap = matplotlib.cm.get_cmap('viridis')\n",
    "\n",
    "# define the display labels to use for each cell subclass:\n",
    "class_labels = {\n",
    "    'l23pyr': 'L2/3 Pyr\\nspiny',\n",
    "    'l23inh':  'L2/3 Inh',\n",
    "}\n",
    "\n",
    "# create a figure/axes to draw on\n",
    "fig, ax = plt.subplots(figsize=(15, 15))\n",
    "\n",
    "# finally, draw the colormap using the provided function:\n",
    "im, cbar, labels = show_connectivity_matrix(\n",
    "    ax=ax, \n",
    "    results=results, \n",
    "    pre_cell_classes=cell_classes.values(), \n",
    "    post_cell_classes=cell_classes.values(), \n",
    "    class_labels=class_labels, \n",
    "    cmap=cmap, \n",
    "    norm=norm\n",
    ")"
   ]
  },
  {
   "cell_type": "code",
   "execution_count": 15,
   "metadata": {},
   "outputs": [],
   "source": [
    "EEprob = results['l23pyr', 'l23pyr']['connection_probability'][0]\n",
    "IEprob = results['l23pyr', 'l23inh']['connection_probability'][0]\n",
    "EIprob = results['l23inh', 'l23pyr']['connection_probability'][0]\n",
    "IIprob = results['l23inh', 'l23inh']['connection_probability'][0]"
   ]
  },
  {
   "cell_type": "code",
   "execution_count": 16,
   "metadata": {},
   "outputs": [
    {
     "name": "stdout",
     "output_type": "stream",
     "text": [
      "EE: 0.062500 connection probability\n",
      "IE: 0.275000 connection probability\n",
      "EI: 0.193333 connection probability\n",
      "II: 0.105437 connection probability\n"
     ]
    }
   ],
   "source": [
    "print(\"EE: %f connection probability\" % EEprob)\n",
    "print(\"IE: %f connection probability\" % IEprob)\n",
    "print(\"EI: %f connection probability\" % EIprob)\n",
    "print(\"II: %f connection probability\" % IIprob)"
   ]
  },
  {
   "cell_type": "markdown",
   "metadata": {},
   "source": [
    "# Combined estimate"
   ]
  },
  {
   "cell_type": "code",
   "execution_count": 17,
   "metadata": {},
   "outputs": [
    {
     "name": "stdout",
     "output_type": "stream",
     "text": [
      "EE: 0.000006 combined estimate\n",
      "IE: 0.000128 combined estimate\n",
      "EI: -0.000070 combined estimate\n",
      "II: -0.000056 combined estimate\n"
     ]
    }
   ],
   "source": [
    "EEcomb = EEstr*EEprob\n",
    "IEcomb = IEstr*IEprob\n",
    "EIcomb = EIstr*EIprob\n",
    "IIcomb = IIstr*IIprob\n",
    "print(\"EE: %f combined estimate\" % EEcomb)\n",
    "print(\"IE: %f combined estimate\" % IEcomb)\n",
    "print(\"EI: %f combined estimate\" % EIcomb)\n",
    "print(\"II: %f combined estimate\" % IIcomb)"
   ]
  },
  {
   "cell_type": "code",
   "execution_count": 18,
   "metadata": {},
   "outputs": [
    {
     "data": {
      "text/plain": [
       "Text(0.5, 0, 'postsyn')"
      ]
     },
     "execution_count": 18,
     "metadata": {},
     "output_type": "execute_result"
    },
    {
     "data": {
      "image/png": "[encoded data removed]",
      "text/plain": [
       "<Figure size 432x288 with 2 Axes>"
      ]
     },
     "metadata": {
      "needs_background": "light"
     },
     "output_type": "display_data"
    }
   ],
   "source": [
    "plt.imshow([[EEcomb, IEcomb], [EIcomb, IIcomb]], cmap=cmap)\n",
    "plt.xticks([0,1], ['E', 'I'])\n",
    "plt.yticks([1, 0], ['I', 'E'])\n",
    "plt.ylim([1.5, -0.5])\n",
    "plt.colorbar()\n",
    "plt.annotate(np.round(EEcomb, 6), (0,0))\n",
    "plt.annotate(np.round(IEcomb, 6), (1,0))\n",
    "plt.annotate(np.round(EIcomb, 6), (0,1))\n",
    "plt.annotate(np.round(IIcomb, 6), (1,1))\n",
    "plt.ylabel('presyn')\n",
    "plt.xlabel('postsyn')"
   ]
  },
  {
   "cell_type": "markdown",
   "metadata": {},
   "source": [
    "# Careful"
   ]
  },
  {
   "cell_type": "code",
   "execution_count": 25,
   "metadata": {},
   "outputs": [
    {
     "data": {
      "text/html": [
       "<div>\n",
       "<style scoped>\n",
       "    .dataframe tbody tr th:only-of-type {\n",
       "        vertical-align: middle;\n",
       "    }\n",
       "\n",
       "    .dataframe tbody tr th {\n",
       "        vertical-align: top;\n",
       "    }\n",
       "\n",
       "    .dataframe thead th {\n",
       "        text-align: right;\n",
       "    }\n",
       "</style>\n",
       "<table border=\"1\" class=\"dataframe\">\n",
       "  <thead>\n",
       "    <tr style=\"text-align: right;\">\n",
       "      <th></th>\n",
       "      <th>id</th>\n",
       "      <th>experiment_id</th>\n",
       "      <th>pre_cell_id</th>\n",
       "      <th>post_cell_id</th>\n",
       "      <th>has_synapse</th>\n",
       "      <th>has_electrical</th>\n",
       "      <th>crosstalk_artifact</th>\n",
       "      <th>n_ex_test_spikes</th>\n",
       "      <th>n_in_test_spikes</th>\n",
       "      <th>distance</th>\n",
       "      <th>meta</th>\n",
       "    </tr>\n",
       "  </thead>\n",
       "  <tbody>\n",
       "  </tbody>\n",
       "</table>\n",
       "</div>"
      ],
      "text/plain": [
       "Empty DataFrame\n",
       "Columns: [id, experiment_id, pre_cell_id, post_cell_id, has_synapse, has_electrical, crosstalk_artifact, n_ex_test_spikes, n_in_test_spikes, distance, meta]\n",
       "Index: []"
      ]
     },
     "execution_count": 25,
     "metadata": {},
     "output_type": "execute_result"
    }
   ],
   "source": [
    "# Careful with false positives for morphological criteria\n",
    "db.pair_query(post_class=CellClass(cre_type='vip', pyramidal=True), project_name=[\"mouse V1 coarse matrix\", \"mouse V1 pre production\"]).dataframe()"
   ]
  },
  {
   "cell_type": "code",
   "execution_count": 26,
   "metadata": {},
   "outputs": [
    {
     "data": {
      "text/html": [
       "<div>\n",
       "<style scoped>\n",
       "    .dataframe tbody tr th:only-of-type {\n",
       "        vertical-align: middle;\n",
       "    }\n",
       "\n",
       "    .dataframe tbody tr th {\n",
       "        vertical-align: top;\n",
       "    }\n",
       "\n",
       "    .dataframe thead th {\n",
       "        text-align: right;\n",
       "    }\n",
       "</style>\n",
       "<table border=\"1\" class=\"dataframe\">\n",
       "  <thead>\n",
       "    <tr style=\"text-align: right;\">\n",
       "      <th></th>\n",
       "      <th>id</th>\n",
       "      <th>experiment_id</th>\n",
       "      <th>pre_cell_id</th>\n",
       "      <th>post_cell_id</th>\n",
       "      <th>has_synapse</th>\n",
       "      <th>has_electrical</th>\n",
       "      <th>crosstalk_artifact</th>\n",
       "      <th>n_ex_test_spikes</th>\n",
       "      <th>n_in_test_spikes</th>\n",
       "      <th>distance</th>\n",
       "      <th>meta</th>\n",
       "    </tr>\n",
       "  </thead>\n",
       "  <tbody>\n",
       "    <tr>\n",
       "      <th>0</th>\n",
       "      <td>61512</td>\n",
       "      <td>1827</td>\n",
       "      <td>10766</td>\n",
       "      <td>10761</td>\n",
       "      <td>True</td>\n",
       "      <td>False</td>\n",
       "      <td>None</td>\n",
       "      <td>430</td>\n",
       "      <td>370</td>\n",
       "      <td>0.000063</td>\n",
       "      <td>None</td>\n",
       "    </tr>\n",
       "    <tr>\n",
       "      <th>1</th>\n",
       "      <td>65825</td>\n",
       "      <td>1968</td>\n",
       "      <td>11565</td>\n",
       "      <td>11561</td>\n",
       "      <td>True</td>\n",
       "      <td>False</td>\n",
       "      <td>None</td>\n",
       "      <td>419</td>\n",
       "      <td>300</td>\n",
       "      <td>0.000099</td>\n",
       "      <td>None</td>\n",
       "    </tr>\n",
       "  </tbody>\n",
       "</table>\n",
       "</div>"
      ],
      "text/plain": [
       "      id  experiment_id  pre_cell_id  post_cell_id  has_synapse  \\\n",
       "0  61512           1827        10766         10761         True   \n",
       "1  65825           1968        11565         11561         True   \n",
       "\n",
       "   has_electrical crosstalk_artifact  n_ex_test_spikes  n_in_test_spikes  \\\n",
       "0           False               None               430               370   \n",
       "1           False               None               419               300   \n",
       "\n",
       "   distance  meta  \n",
       "0  0.000063  None  \n",
       "1  0.000099  None  "
      ]
     },
     "execution_count": 26,
     "metadata": {},
     "output_type": "execute_result"
    }
   ],
   "source": [
    "# Careful with false positives for cre types\n",
    "db.pair_query(pre_class=inh_class, synapse=True, synapse_type='ex', project_name=[\"mouse V1 coarse matrix\", \"mouse V1 pre production\"]).dataframe()"
   ]
  }
 ],
 "metadata": {
  "kernelspec": {
   "display_name": "Python 3",
   "language": "python",
   "name": "python3"
  },
  "language_info": {
   "codemirror_mode": {
    "name": "ipython",
    "version": 3
   },
   "file_extension": ".py",
   "mimetype": "text/x-python",
   "name": "python",
   "nbconvert_exporter": "python",
   "pygments_lexer": "ipython3",
   "version": "3.7.6"
  }
 },
 "nbformat": 4,
 "nbformat_minor": 4
}
